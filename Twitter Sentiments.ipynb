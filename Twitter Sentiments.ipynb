{
 "cells": [
  {
   "cell_type": "code",
   "execution_count": 1,
   "metadata": {},
   "outputs": [],
   "source": [
    "import re\n",
    "import numpy as np \n",
    "import pandas as pd\n",
    "from PIL import Image\n",
    "from os import path, getcwd\n",
    "\n",
    "import tweepy \n",
    "from textblob import TextBlob\n",
    "import nltk\n",
    "\n",
    "from wordcloud import WordCloud, ImageColorGenerator, STOPWORDS\n",
    "import matplotlib.pyplot as plt\n",
    "import seaborn as sns\n",
    "%matplotlib inline"
   ]
  },
  {
   "cell_type": "markdown",
   "metadata": {},
   "source": [
    "## Scrape Twitter for #100DaysOfMlCode into DataFrame"
   ]
  },
  {
   "cell_type": "code",
   "execution_count": 2,
   "metadata": {},
   "outputs": [],
   "source": [
    "CONSUMER_KEY = \"your_key\"\n",
    "CONSUMER_SECERET = 'your_secret'\n",
    "ACCESS_TOKEN = \"your_key\"\n",
    "ACCESS_TOKEN_SECRET = \"your_secret\"'"
   ]
  },
  {
   "cell_type": "code",
   "execution_count": 3,
   "metadata": {},
   "outputs": [],
   "source": [
    "def twitter_setup():\n",
    "    \"\"\"\n",
    "    Twitter's API setup function.\n",
    "    \"\"\"\n",
    "    # Authentication and access using keys:\n",
    "    auth = tweepy.OAuthHandler(CONSUMER_KEY, CONSUMER_SECRET)\n",
    "    auth.set_access_token(ACCESS_TOKEN, ACCESS_SECRET)\n",
    "\n",
    "    # Return API with authentication:\n",
    "    api = tweepy.API(auth)\n",
    "    return api"
   ]
  },
  {
   "cell_type": "code",
   "execution_count": 4,
   "metadata": {},
   "outputs": [
    {
     "name": "stdout",
     "output_type": "stream",
     "text": [
      "Number of tweets extracted: 131.\n",
      "\n"
     ]
    }
   ],
   "source": [
    "extractor = twitter_setup()\n",
    "tweets=[]\n",
    "\n",
    "for tweet in tweepy.Cursor(extractor.search,q=\"100DaysOfMLCode\",count=200,\n",
    "                           lang=\"en\").items():tweets.append(tweet.text)\n",
    "\n",
    "print(\"Number of tweets extracted: {}.\\n\".format(len(tweet.text)))"
   ]
  },
  {
   "cell_type": "code",
   "execution_count": 5,
   "metadata": {},
   "outputs": [
    {
     "data": {
      "text/html": [
       "<div>\n",
       "<style scoped>\n",
       "    .dataframe tbody tr th:only-of-type {\n",
       "        vertical-align: middle;\n",
       "    }\n",
       "\n",
       "    .dataframe tbody tr th {\n",
       "        vertical-align: top;\n",
       "    }\n",
       "\n",
       "    .dataframe thead th {\n",
       "        text-align: right;\n",
       "    }\n",
       "</style>\n",
       "<table border=\"1\" class=\"dataframe\">\n",
       "  <thead>\n",
       "    <tr style=\"text-align: right;\">\n",
       "      <th></th>\n",
       "      <th>Tweets</th>\n",
       "    </tr>\n",
       "  </thead>\n",
       "  <tbody>\n",
       "    <tr>\n",
       "      <th>0</th>\n",
       "      <td>#100daysOfMLCode D72 Continued training mask R...</td>\n",
       "    </tr>\n",
       "    <tr>\n",
       "      <th>1</th>\n",
       "      <td>@Fluid65869181 @100DaysOfMLCode If you're inte...</td>\n",
       "    </tr>\n",
       "    <tr>\n",
       "      <th>2</th>\n",
       "      <td>RT @Grananqvist: #100DaysOfMLCode Day 70 - Sat...</td>\n",
       "    </tr>\n",
       "    <tr>\n",
       "      <th>3</th>\n",
       "      <td>#100DaysOfMLCode Day 70 - Sat on a plane for 1...</td>\n",
       "    </tr>\n",
       "  </tbody>\n",
       "</table>\n",
       "</div>"
      ],
      "text/plain": [
       "                                              Tweets\n",
       "0  #100daysOfMLCode D72 Continued training mask R...\n",
       "1  @Fluid65869181 @100DaysOfMLCode If you're inte...\n",
       "2  RT @Grananqvist: #100DaysOfMLCode Day 70 - Sat...\n",
       "3  #100DaysOfMLCode Day 70 - Sat on a plane for 1..."
      ]
     },
     "execution_count": 5,
     "metadata": {},
     "output_type": "execute_result"
    }
   ],
   "source": [
    "str1 = ''.join(tweets)\n",
    "data = pd.DataFrame(data=[tweet for tweet in tweets], columns=['Tweets'])\n",
    "data.to_csv('data/100DOMC.csv')\n",
    "data.head()\n"
   ]
  },
  {
   "cell_type": "markdown",
   "metadata": {},
   "source": [
    "## Clean and Check Sentiment"
   ]
  },
  {
   "cell_type": "code",
   "execution_count": 6,
   "metadata": {},
   "outputs": [
    {
     "data": {
      "text/html": [
       "<div>\n",
       "<style scoped>\n",
       "    .dataframe tbody tr th:only-of-type {\n",
       "        vertical-align: middle;\n",
       "    }\n",
       "\n",
       "    .dataframe tbody tr th {\n",
       "        vertical-align: top;\n",
       "    }\n",
       "\n",
       "    .dataframe thead th {\n",
       "        text-align: right;\n",
       "    }\n",
       "</style>\n",
       "<table border=\"1\" class=\"dataframe\">\n",
       "  <thead>\n",
       "    <tr style=\"text-align: right;\">\n",
       "      <th></th>\n",
       "      <th>Tweets</th>\n",
       "      <th>SA</th>\n",
       "    </tr>\n",
       "  </thead>\n",
       "  <tbody>\n",
       "    <tr>\n",
       "      <th>0</th>\n",
       "      <td>#100daysOfMLCode D72 Continued training mask R...</td>\n",
       "      <td>0</td>\n",
       "    </tr>\n",
       "    <tr>\n",
       "      <th>1</th>\n",
       "      <td>@Fluid65869181 @100DaysOfMLCode If you're inte...</td>\n",
       "      <td>1</td>\n",
       "    </tr>\n",
       "    <tr>\n",
       "      <th>2</th>\n",
       "      <td>RT @Grananqvist: #100DaysOfMLCode Day 70 - Sat...</td>\n",
       "      <td>0</td>\n",
       "    </tr>\n",
       "    <tr>\n",
       "      <th>3</th>\n",
       "      <td>#100DaysOfMLCode Day 70 - Sat on a plane for 1...</td>\n",
       "      <td>0</td>\n",
       "    </tr>\n",
       "  </tbody>\n",
       "</table>\n",
       "</div>"
      ],
      "text/plain": [
       "                                              Tweets  SA\n",
       "0  #100daysOfMLCode D72 Continued training mask R...   0\n",
       "1  @Fluid65869181 @100DaysOfMLCode If you're inte...   1\n",
       "2  RT @Grananqvist: #100DaysOfMLCode Day 70 - Sat...   0\n",
       "3  #100DaysOfMLCode Day 70 - Sat on a plane for 1...   0"
      ]
     },
     "execution_count": 6,
     "metadata": {},
     "output_type": "execute_result"
    }
   ],
   "source": [
    "def clean_tweet(tweet):\n",
    "    return ' '.join(re.sub(\"(@[A-Za-z0-9]+)|([^0-9A-Za-z \\t])|(\\w+:\\/\\/\\S+)\", \" \", tweet).split())\n",
    "\n",
    "def analize_sentiment(tweet):\n",
    "    analysis = TextBlob(clean_tweet(tweet))\n",
    "    if analysis.sentiment.polarity > 0:\n",
    "        return 1\n",
    "    elif analysis.sentiment.polarity == 0:\n",
    "        return 0\n",
    "    else:\n",
    "        return -1\n",
    "    \n",
    "    \n",
    "data['SA'] = np.array([ analize_sentiment(tweet) for tweet in data['Tweets'] ])\n",
    "data.head()"
   ]
  },
  {
   "cell_type": "code",
   "execution_count": 7,
   "metadata": {},
   "outputs": [
    {
     "name": "stdout",
     "output_type": "stream",
     "text": [
      "Percentage of positive tweets: 25.0%\n",
      "Percentage of neutral tweets: 75.0%\n",
      "Percentage de negative tweets: 0.0%\n"
     ]
    }
   ],
   "source": [
    "pos_tweets = [ tweet for index, tweet in enumerate(data['Tweets']) if data['SA'][index] > 0]\n",
    "neu_tweets = [ tweet for index, tweet in enumerate(data['Tweets']) if data['SA'][index] == 0]\n",
    "neg_tweets = [ tweet for index, tweet in enumerate(data['Tweets']) if data['SA'][index] < 0]\n",
    "\n",
    "print(\"Percentage of positive tweets: {}%\".format(len(pos_tweets)*100/len(data['Tweets'])))\n",
    "print(\"Percentage of neutral tweets: {}%\".format(len(neu_tweets)*100/len(data['Tweets'])))\n",
    "print(\"Percentage de negative tweets: {}%\".format(len(neg_tweets)*100/len(data['Tweets'])))"
   ]
  },
  {
   "cell_type": "markdown",
   "metadata": {},
   "source": [
    "## Process Tweets for WordCloud Visualization"
   ]
  },
  {
   "cell_type": "code",
   "execution_count": 8,
   "metadata": {},
   "outputs": [],
   "source": [
    "def processTweet2(str1):\n",
    "    str1 = str1.lower()\n",
    "    str1 = re.sub('((www\\.[^\\s]+)|(https?://[^\\s]+))','',str1)\n",
    "    str1 = re.sub('@[^\\s]+...','',str1)\n",
    "    str1 = re.sub('[\\s]+', ' ', str1)\n",
    "    str1 = re.sub(r'#([^\\s]+)', r'\\1', str1)\n",
    "    str1 = str1.strip('\\'\"')\n",
    "    return str1    "
   ]
  },
  {
   "cell_type": "code",
   "execution_count": 9,
   "metadata": {},
   "outputs": [],
   "source": [
    "str2= processTweet2(str1)\n",
    "blob= TextBlob(str2)\n",
    "str3=[]\n",
    "count=0\n",
    "for np in blob.noun_phrases:\n",
    "  \n",
    "  str3.append(np)\n",
    "  count+=1\n",
    "str4=''.join(str3)"
   ]
  },
  {
   "cell_type": "code",
   "execution_count": null,
   "metadata": {},
   "outputs": [],
   "source": [
    "#nltk.download('brown')\n",
    "\n",
    "d = getcwd()\n",
    "\n",
    "text= ''.join(str2)\n",
    "stp=list(set(STOPWORDS))\n",
    "w=['hi','ur','dear','rt','even','really','still','...','now','please','getting','guy','want','day','will','using','make','give']\n",
    "q=w+stp\n",
    "\n",
    "\n",
    "mask = np.array(Image.open(path.join(d, \"\"image/Twitter-Logo.jpg\"\")))\n",
    "wc = WordCloud(background_color=\"white\", max_words=500, mask=mask,stopwords=q,max_font_size=90, random_state=42)\n",
    "wc.generate(text)\n",
    "image_colors = ImageColorGenerator(mask)\n",
    "plt.figure(figsize=[10,10],dpi=400)\n",
    "plt.tight_layout(pad=0)\n",
    "plt.imshow(wc.recolor(color_func=image_colors), interpolation=\"bilinear\")\n",
    "plt.axis(\"off\")\n",
    "plt.show()"
   ]
  },
  {
   "cell_type": "code",
   "execution_count": null,
   "metadata": {},
   "outputs": [],
   "source": []
  }
 ],
 "metadata": {
  "kernelspec": {
   "display_name": "Python 3",
   "language": "python",
   "name": "python3"
  },
  "language_info": {
   "codemirror_mode": {
    "name": "ipython",
    "version": 3
   },
   "file_extension": ".py",
   "mimetype": "text/x-python",
   "name": "python",
   "nbconvert_exporter": "python",
   "pygments_lexer": "ipython3",
   "version": "3.6.5"
  }
 },
 "nbformat": 4,
 "nbformat_minor": 2
}
